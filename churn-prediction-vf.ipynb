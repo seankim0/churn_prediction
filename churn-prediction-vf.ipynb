{
 "cells": [
  {
   "cell_type": "markdown",
   "id": "6f6a1a94",
   "metadata": {
    "id": "69f43fb2"
   },
   "source": [
    "<body>\n",
    "\t<h1>About the Dataset</h1>\n",
    "<p>\n",
    "The telecoms churn dataset contains information about customers of a telecom company and whether they churned (cancelled their service) or not. It includes various features such as customer demograhics (age, gender, etc) and service usage data (number of calls, minutes, billing method, etc).\n",
    "</p>\n",
    "\n",
    "<p>This dataset consists of 7043 examples and 21 features, and is commonly used in machine learning and data analysis as a benchmark for predicting customer churn. It can be used to develop models that can identify at-risk customers and take steps to prevent churn, potentially leading to increased customer retention and revenue for the company.</p>\n",
    "\n",
    "<p>For more info, refer to the following resources:</p>\n",
    "<ul>\n",
    "<li><a href=\"https://www.kaggle.com/blastchar/telco-customer-churn\">Kaggle</a></li>\n",
    "<li><a href=\"https://archive.ics.uci.edu/ml/datasets/Telecom+Customer+Churn\">UCL</a></li>\n",
    "</ul>\n",
    "</body>\n",
    "</html>"
   ]
  },
  {
   "cell_type": "markdown",
   "id": "c12bb8f3",
   "metadata": {
    "id": "OBYr8ppbL_6D"
   },
   "source": [
    "**About Feature**\n",
    "\n",
    "---\n",
    "- **customerID**: Customer ID\n",
    "- **gender**: Whether the customer is a male or a female\n",
    "- **Senior Citizen**: Whether the customer is a senior citizen or not (1, 0)\n",
    "- **Partner**: Whether the customer has a partner or not (Yes, No)\n",
    "- **Dependents**: Whether the customer has dependents or not (Yes, No)\n",
    "- **tenure**: Number of months the customer has stayed with the company\n",
    "- **Phone Service**: Whether the customer has a phone service or not (Yes, No)\n",
    "- **Multiple Lines**: Whether the customer has multiple lines or not (Yes, No, No phone service)\n",
    "- **Internet Service**: Customer’s internet service provider (DSL, Fiber optic, No)\n",
    "- **Online Security**: Whether the customer has online security or not (Yes, No, No internet service)\n",
    "- **Online Backup**: Whether the customer has online backup or not (Yes, No, No internet service)\n",
    "- **Device Protection**: Whether the customer has device protection or not (Yes, No, No internet service)\n",
    "- **Tech Support**: Whether the customer has tech support or not (Yes, No, No internet service)\n",
    "- **StreamingTV**: Whether the customer has streaming TV or not (Yes, No, No internet service)\n",
    "- **Streaming**: Whether the customer has streaming movies or not (Yes, No, No internet service)\n",
    "- **Contract**: The contract term of the customer (Month-to-month, One year, Two year)\n",
    "- **Paperless Billing**: Whether the customer has paperless billing or not (Yes, No)\n",
    "- **Payment Method**: The customer’s payment method (Electronic check, Mailed check, Bank transfer (automatic), Credit card (automatic))\n",
    "- **Monthly Charges**: The amount charged to the customer monthly\n",
    "- **Total Charges**: The total amount charged to the customer\n",
    "- **Churn Label**: Whether the customer churned or not (Yes or No)\n"
   ]
  },
  {
   "cell_type": "markdown",
   "id": "2846bad5",
   "metadata": {
    "id": "Vr0Jjr44NOOj"
   },
   "source": [
    "## Initial Plan for Data Exploration\n",
    "\n",
    "**1. Data Overview:**\n",
    "- Load the dataset and review its structure.\n",
    "- Identify key columns, including customer demographics and churn status.\n",
    "\n",
    "**2. Descriptive Analysis:**\n",
    "- Obtain summary statistics for numeric columns\n",
    "- Visualize the churn distribution and identify trends.\n",
    "\n",
    "**3. Categorical Analysis:**\n",
    "- Explore categorical variables\n",
    "- Analyze their impact on churn rates.\n",
    "\n",
    "**4. Churn Reasons:**\n",
    "- Investigate reasons for churn.\n",
    "- Understand the main drivers of customer attrition.\n",
    "\n",
    "**5. Correlation Analysis**\n",
    "\n",
    "**6. Hypothesis testing**\n",
    "- Hypothesis(1): Phone Service Impact Churn\n",
    "- Hypothesis(2): Contract Type Affects Churn\n",
    "- Hypothesis(3): Seniority Affects Churn\n",
    "\n",
    "**8. Suggestions for the next steps in analyzing the data**\n",
    "\n",
    "**8. Summary of quality of data**"
   ]
  },
  {
   "cell_type": "markdown",
   "id": "e33b1948",
   "metadata": {},
   "source": [
    "<font color=#ff0000>Please, upvote my notebook if you find it useful 🙏.</font>"
   ]
  },
  {
   "cell_type": "markdown",
   "id": "54f16d43",
   "metadata": {
    "id": "6ebed708-f458-4ba5-bb17-b08c1d714970"
   },
   "source": [
    "## **Importing necessary libraries**"
   ]
  },
  {
   "cell_type": "code",
   "execution_count": 1,
   "id": "9cd023b5",
   "metadata": {
    "id": "70f1fafd"
   },
   "outputs": [
    {
     "name": "stderr",
     "output_type": "stream",
     "text": [
      "C:\\Users\\shkim\\anaconda3\\lib\\site-packages\\scipy\\__init__.py:155: UserWarning: A NumPy version >=1.18.5 and <1.25.0 is required for this version of SciPy (detected version 1.26.1\n",
      "  warnings.warn(f\"A NumPy version >={np_minversion} and <{np_maxversion}\"\n"
     ]
    }
   ],
   "source": [
    "import os\n",
    "import pandas as pd\n",
    "from pandas import DataFrame\n",
    "\n",
    "pd.set_option(\"display.max_columns\", 50)\n",
    "import numpy as np\n",
    "import matplotlib.pyplot as plt\n",
    "import seaborn as sns\n",
    "from scipy.stats.contingency import chi2_contingency\n",
    "from scipy.stats import normaltest, shapiro\n",
    "import plotly.express as px\n",
    "import warnings\n",
    "\n",
    "warnings.filterwarnings(\"ignore\")\n",
    "\n",
    "import matplotlib\n",
    "\n",
    "matplotlib.rcParams[\"axes.labelsize\"] = 9\n",
    "matplotlib.rcParams[\"legend.fontsize\"] = 9\n",
    "matplotlib.rcParams[\"ytick.labelsize\"] = 9\n",
    "matplotlib.rcParams[\"xtick.labelsize\"] = 9\n",
    "# plt.style.use('classic')"
   ]
  },
  {
   "cell_type": "markdown",
   "id": "aa4431ca",
   "metadata": {
    "id": "zFqD8pxC_NAt"
   },
   "source": [
    "# Overview of Data"
   ]
  },
  {
   "cell_type": "code",
   "execution_count": 15,
   "id": "a50c6eeb",
   "metadata": {
    "colab": {
     "base_uri": "https://localhost:8080/",
     "height": 299
    },
    "id": "041948b0",
    "outputId": "17977281-deca-4a4a-e85b-963cbf9d4ed2"
   },
   "outputs": [
    {
     "data": {
      "text/html": [
       "<div>\n",
       "<style scoped>\n",
       "    .dataframe tbody tr th:only-of-type {\n",
       "        vertical-align: middle;\n",
       "    }\n",
       "\n",
       "    .dataframe tbody tr th {\n",
       "        vertical-align: top;\n",
       "    }\n",
       "\n",
       "    .dataframe thead th {\n",
       "        text-align: right;\n",
       "    }\n",
       "</style>\n",
       "<table border=\"1\" class=\"dataframe\">\n",
       "  <thead>\n",
       "    <tr style=\"text-align: right;\">\n",
       "      <th></th>\n",
       "      <th>customerID</th>\n",
       "      <th>gender</th>\n",
       "      <th>SeniorCitizen</th>\n",
       "      <th>Partner</th>\n",
       "      <th>Dependents</th>\n",
       "      <th>tenure</th>\n",
       "      <th>PhoneService</th>\n",
       "      <th>MultipleLines</th>\n",
       "      <th>InternetService</th>\n",
       "      <th>OnlineSecurity</th>\n",
       "      <th>OnlineBackup</th>\n",
       "      <th>DeviceProtection</th>\n",
       "      <th>TechSupport</th>\n",
       "      <th>StreamingTV</th>\n",
       "      <th>StreamingMovies</th>\n",
       "      <th>Contract</th>\n",
       "      <th>PaperlessBilling</th>\n",
       "      <th>PaymentMethod</th>\n",
       "      <th>MonthlyCharges</th>\n",
       "      <th>Total Charges</th>\n",
       "      <th>Churn</th>\n",
       "    </tr>\n",
       "  </thead>\n",
       "  <tbody>\n",
       "    <tr>\n",
       "      <th>0</th>\n",
       "      <td>7590-VHVEG</td>\n",
       "      <td>Female</td>\n",
       "      <td>0</td>\n",
       "      <td>Yes</td>\n",
       "      <td>No</td>\n",
       "      <td>1</td>\n",
       "      <td>No</td>\n",
       "      <td>No phone service</td>\n",
       "      <td>DSL</td>\n",
       "      <td>No</td>\n",
       "      <td>Yes</td>\n",
       "      <td>No</td>\n",
       "      <td>No</td>\n",
       "      <td>No</td>\n",
       "      <td>No</td>\n",
       "      <td>Month-to-month</td>\n",
       "      <td>Yes</td>\n",
       "      <td>Electronic check</td>\n",
       "      <td>29.85</td>\n",
       "      <td>29.85</td>\n",
       "      <td>No</td>\n",
       "    </tr>\n",
       "    <tr>\n",
       "      <th>1</th>\n",
       "      <td>5575-GNVDE</td>\n",
       "      <td>Male</td>\n",
       "      <td>0</td>\n",
       "      <td>No</td>\n",
       "      <td>No</td>\n",
       "      <td>34</td>\n",
       "      <td>Yes</td>\n",
       "      <td>No</td>\n",
       "      <td>DSL</td>\n",
       "      <td>Yes</td>\n",
       "      <td>No</td>\n",
       "      <td>Yes</td>\n",
       "      <td>No</td>\n",
       "      <td>No</td>\n",
       "      <td>No</td>\n",
       "      <td>One year</td>\n",
       "      <td>No</td>\n",
       "      <td>Mailed check</td>\n",
       "      <td>56.95</td>\n",
       "      <td>1889.5</td>\n",
       "      <td>No</td>\n",
       "    </tr>\n",
       "    <tr>\n",
       "      <th>2</th>\n",
       "      <td>3668-QPYBK</td>\n",
       "      <td>Male</td>\n",
       "      <td>0</td>\n",
       "      <td>No</td>\n",
       "      <td>No</td>\n",
       "      <td>2</td>\n",
       "      <td>Yes</td>\n",
       "      <td>No</td>\n",
       "      <td>DSL</td>\n",
       "      <td>Yes</td>\n",
       "      <td>Yes</td>\n",
       "      <td>No</td>\n",
       "      <td>No</td>\n",
       "      <td>No</td>\n",
       "      <td>No</td>\n",
       "      <td>Month-to-month</td>\n",
       "      <td>Yes</td>\n",
       "      <td>Mailed check</td>\n",
       "      <td>53.85</td>\n",
       "      <td>108.15</td>\n",
       "      <td>Yes</td>\n",
       "    </tr>\n",
       "    <tr>\n",
       "      <th>3</th>\n",
       "      <td>7795-CFOCW</td>\n",
       "      <td>Male</td>\n",
       "      <td>0</td>\n",
       "      <td>No</td>\n",
       "      <td>No</td>\n",
       "      <td>45</td>\n",
       "      <td>No</td>\n",
       "      <td>No phone service</td>\n",
       "      <td>DSL</td>\n",
       "      <td>Yes</td>\n",
       "      <td>No</td>\n",
       "      <td>Yes</td>\n",
       "      <td>Yes</td>\n",
       "      <td>No</td>\n",
       "      <td>No</td>\n",
       "      <td>One year</td>\n",
       "      <td>No</td>\n",
       "      <td>Bank transfer (automatic)</td>\n",
       "      <td>42.30</td>\n",
       "      <td>1840.75</td>\n",
       "      <td>No</td>\n",
       "    </tr>\n",
       "  </tbody>\n",
       "</table>\n",
       "</div>"
      ],
      "text/plain": [
       "   customerID  gender  SeniorCitizen Partner Dependents  tenure PhoneService  \\\n",
       "0  7590-VHVEG  Female              0     Yes         No       1           No   \n",
       "1  5575-GNVDE    Male              0      No         No      34          Yes   \n",
       "2  3668-QPYBK    Male              0      No         No       2          Yes   \n",
       "3  7795-CFOCW    Male              0      No         No      45           No   \n",
       "\n",
       "      MultipleLines InternetService OnlineSecurity OnlineBackup  \\\n",
       "0  No phone service             DSL             No          Yes   \n",
       "1                No             DSL            Yes           No   \n",
       "2                No             DSL            Yes          Yes   \n",
       "3  No phone service             DSL            Yes           No   \n",
       "\n",
       "  DeviceProtection TechSupport StreamingTV StreamingMovies        Contract  \\\n",
       "0               No          No          No              No  Month-to-month   \n",
       "1              Yes          No          No              No        One year   \n",
       "2               No          No          No              No  Month-to-month   \n",
       "3              Yes         Yes          No              No        One year   \n",
       "\n",
       "  PaperlessBilling              PaymentMethod  MonthlyCharges Total Charges  \\\n",
       "0              Yes           Electronic check           29.85         29.85   \n",
       "1               No               Mailed check           56.95        1889.5   \n",
       "2              Yes               Mailed check           53.85        108.15   \n",
       "3               No  Bank transfer (automatic)           42.30       1840.75   \n",
       "\n",
       "  Churn  \n",
       "0    No  \n",
       "1    No  \n",
       "2   Yes  \n",
       "3    No  "
      ]
     },
     "execution_count": 15,
     "metadata": {},
     "output_type": "execute_result"
    }
   ],
   "source": [
    "# Reading the data into pandas dataframe\n",
    "\n",
    "df = pd.read_csv(\"./data/Telco_customer_churn.csv\")\n",
    "df.head(4)"
   ]
  },
  {
   "cell_type": "code",
   "execution_count": 16,
   "id": "eeecb42b",
   "metadata": {
    "colab": {
     "base_uri": "https://localhost:8080/",
     "height": 0
    },
    "id": "983ed98b",
    "outputId": "972b5a87-8a09-493a-9053-b623f5c9ec31"
   },
   "outputs": [
    {
     "name": "stdout",
     "output_type": "stream",
     "text": [
      "Number of columns: 21 columns\n",
      "Number of rws: 7043 rows\n"
     ]
    }
   ],
   "source": [
    "n_rows, n_columns = df.shape\n",
    "print(f\"Number of columns: {n_columns} columns\\nNumber of rws: {n_rows} rows\")"
   ]
  },
  {
   "cell_type": "code",
   "execution_count": 17,
   "id": "e14d35df",
   "metadata": {
    "colab": {
     "base_uri": "https://localhost:8080/"
    },
    "id": "41533642-3ca8-47e9-890e-502999f2063a",
    "outputId": "af7503ea-c86d-4c36-8d63-188198bdbd47"
   },
   "outputs": [
    {
     "data": {
      "text/plain": [
       "customerID           object\n",
       "gender               object\n",
       "SeniorCitizen         int64\n",
       "Partner              object\n",
       "Dependents           object\n",
       "tenure                int64\n",
       "PhoneService         object\n",
       "MultipleLines        object\n",
       "InternetService      object\n",
       "OnlineSecurity       object\n",
       "OnlineBackup         object\n",
       "DeviceProtection     object\n",
       "TechSupport          object\n",
       "StreamingTV          object\n",
       "StreamingMovies      object\n",
       "Contract             object\n",
       "PaperlessBilling     object\n",
       "PaymentMethod        object\n",
       "MonthlyCharges      float64\n",
       "Total Charges        object\n",
       "Churn                object\n",
       "dtype: object"
      ]
     },
     "execution_count": 17,
     "metadata": {},
     "output_type": "execute_result"
    }
   ],
   "source": [
    "df.dtypes"
   ]
  },
  {
   "cell_type": "markdown",
   "id": "bd56fa35",
   "metadata": {
    "id": "Jcqhp9ljnFzj"
   },
   "source": [
    "# Descriptive Analysis"
   ]
  },
  {
   "cell_type": "markdown",
   "id": "d09ed3c5",
   "metadata": {
    "id": "85f141e9-a065-4315-b158-6f9e639917aa"
   },
   "source": [
    "<font color=#0b5bdb>**1. Total charge should be a float but it showing as object. We will convert it to float.**</font>"
   ]
  },
  {
   "cell_type": "code",
   "execution_count": 18,
   "id": "25190eca",
   "metadata": {
    "colab": {
     "base_uri": "https://localhost:8080/"
    },
    "id": "f8dcc5d7-3b42-4fa5-b3f2-454f8e1b615b",
    "outputId": "b177d727-fda0-4fea-f0c3-db497dded977"
   },
   "outputs": [
    {
     "name": "stdout",
     "output_type": "stream",
     "text": [
      "Number of missing total charge:  11\n"
     ]
    },
    {
     "data": {
      "text/plain": [
       "488      \n",
       "753      \n",
       "936      \n",
       "1082     \n",
       "1340     \n",
       "Name: Total Charges, dtype: object"
      ]
     },
     "execution_count": 18,
     "metadata": {},
     "output_type": "execute_result"
    }
   ],
   "source": [
    "total_charge = df[\"Total Charges\"]\n",
    "missing = total_charge[~total_charge.str.replace(\".\", \"\").str.isdigit()]\n",
    "print(\"Number of missing total charge: \", len(missing))\n",
    "missing.head()"
   ]
  },
  {
   "cell_type": "markdown",
   "id": "20a53836",
   "metadata": {
    "id": "d56dc685-77a7-4ddb-bb12-1a28e1095129"
   },
   "source": [
    "---\n",
    "<p>As we can see in the dataframe above, the total charge column has some missing values.</p>"
   ]
  },
  {
   "cell_type": "code",
   "execution_count": 19,
   "id": "711dbb5b",
   "metadata": {
    "id": "4a419ea6-35b8-4c80-9223-6d6bf9ba5d02"
   },
   "outputs": [],
   "source": [
    "# Coverting the total charge column to numeric\n",
    "df[\"Total Charges\"] = df[\"Total Charges\"].apply(pd.to_numeric, errors=\"coerce\")"
   ]
  },
  {
   "cell_type": "markdown",
   "id": "4bdc6619",
   "metadata": {
    "id": "x0SROcSCnn-2"
   },
   "source": [
    "<font color=#0b5bdb>**2. Displaying summary statistics of the numeric columns**</font>"
   ]
  },
  {
   "cell_type": "code",
   "execution_count": 20,
   "id": "71673246",
   "metadata": {
    "colab": {
     "base_uri": "https://localhost:8080/",
     "height": 323
    },
    "id": "aaf7e7ed",
    "outputId": "20641ff9-ad6b-450d-8adc-222c114552b2"
   },
   "outputs": [
    {
     "data": {
      "text/html": [
       "<style type=\"text/css\">\n",
       "#T_beab1 th {\n",
       "  background-color: k;\n",
       "}\n",
       "#T_beab1_row0_col0 {\n",
       "  background-color: #2a115c;\n",
       "  color: #f1f1f1;\n",
       "  text-align: center;\n",
       "}\n",
       "#T_beab1_row0_col1 {\n",
       "  background-color: #a1307e;\n",
       "  color: #f1f1f1;\n",
       "  text-align: center;\n",
       "}\n",
       "#T_beab1_row0_col2 {\n",
       "  background-color: #a6317d;\n",
       "  color: #f1f1f1;\n",
       "  text-align: center;\n",
       "}\n",
       "#T_beab1_row0_col3, #T_beab1_row1_col3 {\n",
       "  background-color: #54137d;\n",
       "  color: #f1f1f1;\n",
       "  text-align: center;\n",
       "}\n",
       "#T_beab1_row1_col0 {\n",
       "  background-color: #802582;\n",
       "  color: #f1f1f1;\n",
       "  text-align: center;\n",
       "}\n",
       "#T_beab1_row1_col1 {\n",
       "  background-color: #752181;\n",
       "  color: #f1f1f1;\n",
       "  text-align: center;\n",
       "}\n",
       "#T_beab1_row1_col2 {\n",
       "  background-color: #1a1042;\n",
       "  color: #f1f1f1;\n",
       "  text-align: center;\n",
       "}\n",
       "#T_beab1_row2_col0, #T_beab1_row2_col1, #T_beab1_row2_col2, #T_beab1_row2_col3, #T_beab1_row3_col0, #T_beab1_row4_col0, #T_beab1_row5_col0 {\n",
       "  background-color: #000004;\n",
       "  color: #f1f1f1;\n",
       "  text-align: center;\n",
       "}\n",
       "#T_beab1_row3_col1 {\n",
       "  background-color: #1d1147;\n",
       "  color: #f1f1f1;\n",
       "  text-align: center;\n",
       "}\n",
       "#T_beab1_row3_col2 {\n",
       "  background-color: #2d1161;\n",
       "  color: #f1f1f1;\n",
       "  text-align: center;\n",
       "}\n",
       "#T_beab1_row3_col3 {\n",
       "  background-color: #060518;\n",
       "  color: #f1f1f1;\n",
       "  text-align: center;\n",
       "}\n",
       "#T_beab1_row4_col1 {\n",
       "  background-color: #8e2a81;\n",
       "  color: #f1f1f1;\n",
       "  text-align: center;\n",
       "}\n",
       "#T_beab1_row4_col2 {\n",
       "  background-color: #bd3977;\n",
       "  color: #f1f1f1;\n",
       "  text-align: center;\n",
       "}\n",
       "#T_beab1_row4_col3 {\n",
       "  background-color: #29115a;\n",
       "  color: #f1f1f1;\n",
       "  text-align: center;\n",
       "}\n",
       "#T_beab1_row5_col1 {\n",
       "  background-color: #fc8e64;\n",
       "  color: #000000;\n",
       "  text-align: center;\n",
       "}\n",
       "#T_beab1_row5_col2 {\n",
       "  background-color: #f8765c;\n",
       "  color: #f1f1f1;\n",
       "  text-align: center;\n",
       "}\n",
       "#T_beab1_row5_col3 {\n",
       "  background-color: #9b2e7f;\n",
       "  color: #f1f1f1;\n",
       "  text-align: center;\n",
       "}\n",
       "#T_beab1_row6_col0, #T_beab1_row6_col1, #T_beab1_row6_col2, #T_beab1_row6_col3 {\n",
       "  background-color: #fcfdbf;\n",
       "  color: #000000;\n",
       "  text-align: center;\n",
       "}\n",
       "</style>\n",
       "<table id=\"T_beab1\">\n",
       "  <caption>Summary Statistics</caption>\n",
       "  <thead>\n",
       "    <tr>\n",
       "      <th class=\"blank level0\" >&nbsp;</th>\n",
       "      <th id=\"T_beab1_level0_col0\" class=\"col_heading level0 col0\" >SeniorCitizen</th>\n",
       "      <th id=\"T_beab1_level0_col1\" class=\"col_heading level0 col1\" >tenure</th>\n",
       "      <th id=\"T_beab1_level0_col2\" class=\"col_heading level0 col2\" >MonthlyCharges</th>\n",
       "      <th id=\"T_beab1_level0_col3\" class=\"col_heading level0 col3\" >Total Charges</th>\n",
       "    </tr>\n",
       "  </thead>\n",
       "  <tbody>\n",
       "    <tr>\n",
       "      <th id=\"T_beab1_level0_row0\" class=\"row_heading level0 row0\" >mean</th>\n",
       "      <td id=\"T_beab1_row0_col0\" class=\"data row0 col0\" >0.162147</td>\n",
       "      <td id=\"T_beab1_row0_col1\" class=\"data row0 col1\" >32.371149</td>\n",
       "      <td id=\"T_beab1_row0_col2\" class=\"data row0 col2\" >64.761692</td>\n",
       "      <td id=\"T_beab1_row0_col3\" class=\"data row0 col3\" >2283.300441</td>\n",
       "    </tr>\n",
       "    <tr>\n",
       "      <th id=\"T_beab1_level0_row1\" class=\"row_heading level0 row1\" >std</th>\n",
       "      <td id=\"T_beab1_row1_col0\" class=\"data row1 col0\" >0.368612</td>\n",
       "      <td id=\"T_beab1_row1_col1\" class=\"data row1 col1\" >24.559481</td>\n",
       "      <td id=\"T_beab1_row1_col2\" class=\"data row1 col2\" >30.090047</td>\n",
       "      <td id=\"T_beab1_row1_col3\" class=\"data row1 col3\" >2266.771362</td>\n",
       "    </tr>\n",
       "    <tr>\n",
       "      <th id=\"T_beab1_level0_row2\" class=\"row_heading level0 row2\" >min</th>\n",
       "      <td id=\"T_beab1_row2_col0\" class=\"data row2 col0\" >0.000000</td>\n",
       "      <td id=\"T_beab1_row2_col1\" class=\"data row2 col1\" >0.000000</td>\n",
       "      <td id=\"T_beab1_row2_col2\" class=\"data row2 col2\" >18.250000</td>\n",
       "      <td id=\"T_beab1_row2_col3\" class=\"data row2 col3\" >18.800000</td>\n",
       "    </tr>\n",
       "    <tr>\n",
       "      <th id=\"T_beab1_level0_row3\" class=\"row_heading level0 row3\" >25%</th>\n",
       "      <td id=\"T_beab1_row3_col0\" class=\"data row3 col0\" >0.000000</td>\n",
       "      <td id=\"T_beab1_row3_col1\" class=\"data row3 col1\" >9.000000</td>\n",
       "      <td id=\"T_beab1_row3_col2\" class=\"data row3 col2\" >35.500000</td>\n",
       "      <td id=\"T_beab1_row3_col3\" class=\"data row3 col3\" >401.450000</td>\n",
       "    </tr>\n",
       "    <tr>\n",
       "      <th id=\"T_beab1_level0_row4\" class=\"row_heading level0 row4\" >50%</th>\n",
       "      <td id=\"T_beab1_row4_col0\" class=\"data row4 col0\" >0.000000</td>\n",
       "      <td id=\"T_beab1_row4_col1\" class=\"data row4 col1\" >29.000000</td>\n",
       "      <td id=\"T_beab1_row4_col2\" class=\"data row4 col2\" >70.350000</td>\n",
       "      <td id=\"T_beab1_row4_col3\" class=\"data row4 col3\" >1397.475000</td>\n",
       "    </tr>\n",
       "    <tr>\n",
       "      <th id=\"T_beab1_level0_row5\" class=\"row_heading level0 row5\" >75%</th>\n",
       "      <td id=\"T_beab1_row5_col0\" class=\"data row5 col0\" >0.000000</td>\n",
       "      <td id=\"T_beab1_row5_col1\" class=\"data row5 col1\" >55.000000</td>\n",
       "      <td id=\"T_beab1_row5_col2\" class=\"data row5 col2\" >89.850000</td>\n",
       "      <td id=\"T_beab1_row5_col3\" class=\"data row5 col3\" >3794.737500</td>\n",
       "    </tr>\n",
       "    <tr>\n",
       "      <th id=\"T_beab1_level0_row6\" class=\"row_heading level0 row6\" >max</th>\n",
       "      <td id=\"T_beab1_row6_col0\" class=\"data row6 col0\" >1.000000</td>\n",
       "      <td id=\"T_beab1_row6_col1\" class=\"data row6 col1\" >72.000000</td>\n",
       "      <td id=\"T_beab1_row6_col2\" class=\"data row6 col2\" >118.750000</td>\n",
       "      <td id=\"T_beab1_row6_col3\" class=\"data row6 col3\" >8684.800000</td>\n",
       "    </tr>\n",
       "  </tbody>\n",
       "</table>\n"
      ],
      "text/plain": [
       "<pandas.io.formats.style.Styler at 0x1c7e1d79970>"
      ]
     },
     "execution_count": 20,
     "metadata": {},
     "output_type": "execute_result"
    }
   ],
   "source": [
    "styled_df = (\n",
    "    df.describe()\n",
    "    .drop(\"count\", axis=0)\n",
    "    .style.background_gradient(axis=0, cmap=\"magma\")\n",
    "    .set_properties(**{\"text-align\": \"center\"})\n",
    "    .set_table_styles([{\"selector\": \"th\", \"props\": [(\"background-color\", \"k\")]}])\n",
    "    .set_caption(\"Summary Statistics\")\n",
    ")\n",
    "\n",
    "styled_df"
   ]
  },
  {
   "cell_type": "markdown",
   "id": "7befd4a9",
   "metadata": {
    "id": "0fb3329d"
   },
   "source": [
    "From the table above, total charge is showing as categorical which should not be so. It is supposed to be a numeric column. We will deal with it later."
   ]
  },
  {
   "cell_type": "markdown",
   "id": "723adfb1",
   "metadata": {
    "id": "__-cX3ZIvaJJ"
   },
   "source": [
    "<font color=#0b5bdb>**3. Analysis of numeric columns with barchart**</font>"
   ]
  },
  {
   "cell_type": "code",
   "execution_count": 21,
   "id": "7280096f",
   "metadata": {
    "colab": {
     "base_uri": "https://localhost:8080/",
     "height": 507
    },
    "id": "7hWp9UNfpG9q",
    "outputId": "6a6b56bf-547b-415d-d74e-7a0b4b1b9b73"
   },
   "outputs": [
    {
     "ename": "KeyError",
     "evalue": "\"['Churn Value', 'Latitude', 'Longitude', 'Churn Score', 'Count', 'Zip Code'] not found in axis\"",
     "output_type": "error",
     "traceback": [
      "\u001b[1;31m---------------------------------------------------------------------------\u001b[0m",
      "\u001b[1;31mKeyError\u001b[0m                                  Traceback (most recent call last)",
      "\u001b[1;32m~\\AppData\\Local\\Temp\\ipykernel_36412\\2532602696.py\u001b[0m in \u001b[0;36m<module>\u001b[1;34m\u001b[0m\n\u001b[1;32m----> 1\u001b[1;33m numeric_columns = df.select_dtypes(include=[\"int64\", \"float64\"]).columns.drop(\n\u001b[0m\u001b[0;32m      2\u001b[0m     \u001b[1;33m[\u001b[0m\u001b[1;34m\"Churn Value\"\u001b[0m\u001b[1;33m,\u001b[0m \u001b[1;34m\"Latitude\"\u001b[0m\u001b[1;33m,\u001b[0m \u001b[1;34m\"Longitude\"\u001b[0m\u001b[1;33m,\u001b[0m \u001b[1;34m\"Churn Score\"\u001b[0m\u001b[1;33m,\u001b[0m \u001b[1;34m\"Count\"\u001b[0m\u001b[1;33m,\u001b[0m \u001b[1;34m\"Zip Code\"\u001b[0m\u001b[1;33m]\u001b[0m\u001b[1;33m\u001b[0m\u001b[1;33m\u001b[0m\u001b[0m\n\u001b[0;32m      3\u001b[0m )\n\u001b[0;32m      4\u001b[0m \u001b[1;33m\u001b[0m\u001b[0m\n\u001b[0;32m      5\u001b[0m \u001b[0mfig\u001b[0m\u001b[1;33m,\u001b[0m \u001b[0maxes\u001b[0m \u001b[1;33m=\u001b[0m \u001b[0mplt\u001b[0m\u001b[1;33m.\u001b[0m\u001b[0msubplots\u001b[0m\u001b[1;33m(\u001b[0m\u001b[1;36m2\u001b[0m\u001b[1;33m,\u001b[0m \u001b[1;36m2\u001b[0m\u001b[1;33m,\u001b[0m \u001b[0mfigsize\u001b[0m\u001b[1;33m=\u001b[0m\u001b[1;33m(\u001b[0m\u001b[1;36m7\u001b[0m\u001b[1;33m,\u001b[0m \u001b[1;36m5\u001b[0m\u001b[1;33m)\u001b[0m\u001b[1;33m)\u001b[0m\u001b[1;33m\u001b[0m\u001b[1;33m\u001b[0m\u001b[0m\n",
      "\u001b[1;32m~\\anaconda3\\lib\\site-packages\\pandas\\core\\indexes\\base.py\u001b[0m in \u001b[0;36mdrop\u001b[1;34m(self, labels, errors)\u001b[0m\n\u001b[0;32m   6659\u001b[0m         \u001b[1;32mif\u001b[0m \u001b[0mmask\u001b[0m\u001b[1;33m.\u001b[0m\u001b[0many\u001b[0m\u001b[1;33m(\u001b[0m\u001b[1;33m)\u001b[0m\u001b[1;33m:\u001b[0m\u001b[1;33m\u001b[0m\u001b[1;33m\u001b[0m\u001b[0m\n\u001b[0;32m   6660\u001b[0m             \u001b[1;32mif\u001b[0m \u001b[0merrors\u001b[0m \u001b[1;33m!=\u001b[0m \u001b[1;34m\"ignore\"\u001b[0m\u001b[1;33m:\u001b[0m\u001b[1;33m\u001b[0m\u001b[1;33m\u001b[0m\u001b[0m\n\u001b[1;32m-> 6661\u001b[1;33m                 \u001b[1;32mraise\u001b[0m \u001b[0mKeyError\u001b[0m\u001b[1;33m(\u001b[0m\u001b[1;34mf\"{list(labels[mask])} not found in axis\"\u001b[0m\u001b[1;33m)\u001b[0m\u001b[1;33m\u001b[0m\u001b[1;33m\u001b[0m\u001b[0m\n\u001b[0m\u001b[0;32m   6662\u001b[0m             \u001b[0mindexer\u001b[0m \u001b[1;33m=\u001b[0m \u001b[0mindexer\u001b[0m\u001b[1;33m[\u001b[0m\u001b[1;33m~\u001b[0m\u001b[0mmask\u001b[0m\u001b[1;33m]\u001b[0m\u001b[1;33m\u001b[0m\u001b[1;33m\u001b[0m\u001b[0m\n\u001b[0;32m   6663\u001b[0m         \u001b[1;32mreturn\u001b[0m \u001b[0mself\u001b[0m\u001b[1;33m.\u001b[0m\u001b[0mdelete\u001b[0m\u001b[1;33m(\u001b[0m\u001b[0mindexer\u001b[0m\u001b[1;33m)\u001b[0m\u001b[1;33m\u001b[0m\u001b[1;33m\u001b[0m\u001b[0m\n",
      "\u001b[1;31mKeyError\u001b[0m: \"['Churn Value', 'Latitude', 'Longitude', 'Churn Score', 'Count', 'Zip Code'] not found in axis\""
     ]
    }
   ],
   "source": [
    "numeric_columns = df.select_dtypes(include=[\"int64\", \"float64\"]).columns.drop(\n",
    "    [\"Churn Value\", \"Latitude\", \"Longitude\", \"Churn Score\", \"Count\", \"Zip Code\"]\n",
    ")\n",
    "\n",
    "fig, axes = plt.subplots(2, 2, figsize=(7, 5))\n",
    "axes = axes.flatten()\n",
    "for i, column in enumerate(numeric_columns):\n",
    "    ax = axes[i]\n",
    "    sns.barplot(data=df, x=\"Churn Label\", y=column, ax=ax, estimator=np.mean)\n",
    "    ax.set_title(f\"{column} vs Churn Label\", fontsize=10)\n",
    "\n",
    "    for k in ax.containers:\n",
    "        ax.bar_label(\n",
    "            k, fontsize=10, label_type=\"center\", backgroundcolor=\"w\", fmt=\"%.2f\"\n",
    "        )\n",
    "plt.tight_layout()\n",
    "plt.show()"
   ]
  },
  {
   "cell_type": "markdown",
   "id": "d01bdd84",
   "metadata": {
    "id": "-tUNIkBIum65"
   },
   "source": [
    "**Interpretation of results**\n",
    "\n",
    "---\n",
    "#### Tenure Months:\n",
    "- For customers who have not churned (`Churn Label` = \"No\"), the average tenure is approximately 37.57 months.\n",
    "- For customers who have churned (`Churn Label` = \"Yes\"), the average tenure is significantly lower, at around 17.98 months.\n",
    "- This suggests that customers who have stayed longer with the company are less likely to churn, as indicated by the lower average tenure for churned customers.\n",
    "\n",
    "#### Monthly Charges:\n",
    "- For customers who have not churned, the `average monthly charges` are approximately `$61.27.`\n",
    "- For customers who have churned, the average monthly charges are slightly higher, around `$74.44.`\n",
    "- This indicates that customers who have churned tend to have slightly higher monthly charges on average.\n",
    "\n",
    "#### Total Charges:\n",
    "- For customers who have not churned, the `average total charges` are approximately `$2,554.77`.\n",
    "- For customers who have churned, the `average total charges` are notably lower, around `$1,531.80.`\n",
    "- This suggests that customers who have accumulated higher total charges are more likely to continue their subscription and not churn.\n",
    "\n",
    "#### CLTV (Customer Lifetime Value):\n",
    "- For customers who have not churned, the average `CLTV` is approximately `$4,490.92.`\n",
    "- For customers who have churned, the average `CLTV` is slightly lower, at around `$4,149.41.`\n",
    "- This indicates that customers who continue their subscriptions tend to have a slightly higher average `CLTV` compared to churned customers."
   ]
  },
  {
   "cell_type": "markdown",
   "id": "bf3d9b0f",
   "metadata": {
    "id": "ykIfYp41vyn7"
   },
   "source": [
    "# Categorical Analysis"
   ]
  },
  {
   "cell_type": "markdown",
   "id": "f4fee07b",
   "metadata": {
    "id": "cf212cae"
   },
   "source": [
    "<font color=#0b5bdb>**1. Getting unique categories in the dataset**</font>"
   ]
  },
  {
   "cell_type": "code",
   "execution_count": null,
   "id": "f30f4ebf",
   "metadata": {
    "id": "1c7bbcd1"
   },
   "outputs": [],
   "source": [
    "def get_unique(dataframe: DataFrame):\n",
    "\n",
    "    cat_cols = dataframe.select_dtypes(exclude=\"number\")\n",
    "    uni_values = []\n",
    "    counts = []\n",
    "    pct = []\n",
    "\n",
    "    for col in cat_cols.columns:\n",
    "        uni_value, count = np.unique(\n",
    "            np.array(cat_cols[col], dtype=str), return_counts=True\n",
    "        )\n",
    "        uni_values.append(uni_value)\n",
    "        counts.append(count)\n",
    "        pct.append(np.round(count / count.sum() * 100, 2))\n",
    "\n",
    "    return pd.DataFrame(\n",
    "        {\n",
    "            \"dtype\": cat_cols.dtypes,\n",
    "            \"unique_values\": uni_values,\n",
    "            \"counts\": [len(val) for val in uni_values],\n",
    "            \"values_count\": counts,\n",
    "            \"pct\": pct,\n",
    "        }\n",
    "    )"
   ]
  },
  {
   "cell_type": "code",
   "execution_count": null,
   "id": "ea63de7d",
   "metadata": {
    "colab": {
     "base_uri": "https://localhost:8080/",
     "height": 771
    },
    "id": "c3a3d6e5",
    "outputId": "fbf174a5-f70d-4b35-f75c-fc849aa34b2d"
   },
   "outputs": [],
   "source": [
    "get_unique(df)"
   ]
  },
  {
   "cell_type": "markdown",
   "id": "284f0606",
   "metadata": {
    "id": "H6Fp7m7SwZfT"
   },
   "source": [
    "<font color=#0b5bdb>**2. Analysis of categories frequencies based on churn labels**</font>"
   ]
  },
  {
   "cell_type": "code",
   "execution_count": null,
   "id": "107b1aa2",
   "metadata": {
    "colab": {
     "base_uri": "https://localhost:8080/",
     "height": 1398
    },
    "id": "jYcvryY4wVrM",
    "outputId": "c63363fe-263b-4e81-aa06-3d865d286f98"
   },
   "outputs": [],
   "source": [
    "categorical_columns = df.dtypes[df.dtypes == \"object\"].index.drop(\n",
    "    [\n",
    "        \"Churn Label\",\n",
    "        \"Churn Reason\",\n",
    "        \"City\",\n",
    "        \"CustomerID\",\n",
    "        \"Country\",\n",
    "        \"State\",\n",
    "        \"Lat Long\",\n",
    "    ]\n",
    ")\n",
    "\n",
    "categorical_counts = pd.DataFrame(\n",
    "    columns=[\"No\", \"Yes\"], index=pd.MultiIndex.from_tuples([(\"Group 1\", \"A\")])\n",
    ")\n",
    "\n",
    "for column in categorical_columns:\n",
    "    table = pd.crosstab(index=df[column], columns=df[\"Churn Label\"])\n",
    "    index = pd.MultiIndex.from_tuples(\n",
    "        list(zip([column] * df[column].nunique(), df[column].unique()))\n",
    "    )\n",
    "    table.index = index\n",
    "    categorical_counts = pd.concat([categorical_counts, table])\n",
    "\n",
    "categorical_counts.drop(categorical_counts.index[0], inplace=True)\n",
    "\n",
    "categorical_counts.style.bar(\n",
    "    axis=0, subset=[\"No\", \"Yes\"], align=100, width=100, height=70, color=\"cyan\"\n",
    ")"
   ]
  },
  {
   "cell_type": "markdown",
   "id": "23cb8e13",
   "metadata": {
    "id": "qigtNIInxFyJ"
   },
   "source": [
    "<font color=#0b5bdb>**3. Visualizing the frequencies**</font>"
   ]
  },
  {
   "cell_type": "code",
   "execution_count": null,
   "id": "ed0694d1",
   "metadata": {
    "colab": {
     "base_uri": "https://localhost:8080/",
     "height": 1000
    },
    "id": "HOAMOVxcxA2X",
    "outputId": "3a178c09-6700-4a78-8138-7c0971312782"
   },
   "outputs": [],
   "source": [
    "cat_cols = df[categorical_columns]\n",
    "\n",
    "fig, axes = plt.subplots(4, 4, figsize=(20, 18), dpi=500)\n",
    "axes = axes.flatten()\n",
    "fig.suptitle(\"Churn by Category\", fontsize=25, fontweight=\"bold\", y=1)\n",
    "\n",
    "for i, col in enumerate(cat_cols.columns):\n",
    "    ax = axes[i]\n",
    "    sns.countplot(data=df, x=col, hue=\"Churn Label\", ax=ax, palette=\"Set2\")\n",
    "    ax.legend(frameon=True, facecolor=\"inherit\", shadow=True)\n",
    "    ax.set_title(f\"Churn by {col}\", fontsize=13)\n",
    "    plt.tight_layout(pad=0.6)\n",
    "\n",
    "    for i in ax.containers:\n",
    "        ax.bar_label(i, fontsize=13)\n",
    "\n",
    "plt.tight_layout()"
   ]
  },
  {
   "cell_type": "markdown",
   "id": "090fbbca",
   "metadata": {
    "id": "RYRwf51GxepG"
   },
   "source": [
    "**Customer Churn by Category**\n",
    "\n",
    "---\n",
    "In this report, we'll examine the Telco Customer Churn dataset to understand customer churn behavior. We've analyzed various categorical variables in relation to the \"Churn Label,\" which indicates whether a customer has churned (\"Yes\") or not (\"No\").\n",
    "\n",
    "### Gender\n",
    "- Male: `2549` customers (No Churn: `2549`, Churn: `939`)\n",
    "- Female: `2625` customers (No Churn: `2625`, Churn: `930`)\n",
    "\n",
    "### Senior Citizen\n",
    "- No: `4508` customers (No Churn: `4508`, Churn: `1393`)\n",
    "- Yes: `666` customers (No Churn: `666`, Churn: `476`)\n",
    "\n",
    "### Partner\n",
    "- No: `2441` customers (No Churn: `2441`, Churn: `1200`)\n",
    "- Yes: `2733` customers (No Churn: `2733`, Churn: `669`)\n",
    "\n",
    "### Dependents\n",
    "- No: `3653` customers (No Churn: `3653`, Churn: `1763`)\n",
    "- Yes: `1521` customers (No Churn: `1521`, Churn: `106`)\n",
    "\n",
    "### Phone Service\n",
    "- Yes: `512` customers (No Churn: `512`, Churn: `170`)\n",
    "- No: `4662` customers (No Churn: `4662`, Churn: `1699`)\n",
    "\n",
    "### Multiple Lines\n",
    "- No: `2541` customers (No Churn: `2541`, Churn: `849`)\n",
    "- Yes: `512` customers (No Churn: `512`, Churn: `170`)\n",
    "- No phone service: `2121` customers (No Churn: `2121`, Churn: `850`)\n",
    "\n",
    "### Internet Service\n",
    "- DSL: `1962` customers (No Churn: `1962`, Churn: `459`)\n",
    "- Fiber optic: `1799` customers (No Churn: `1799`, Churn: `1297`)\n",
    "- No: `1413` customers (No Churn: `1413`, Churn: `113`)\n",
    "\n",
    "### Online Security\n",
    "- Yes: `2037` customers (No Churn: `2037`, Churn: `1461`)\n",
    "- No: `1413` customers (No Churn: `1413`, Churn: `113`)\n",
    "- No internet service: `1724` customers (No Churn: `1724`, Churn: `295`)\n",
    "\n",
    "### Online Backup\n",
    "- Yes: `1855` customers (No Churn: `1855`, Churn: `1233`)\n",
    "- No: `1413` customers (No Churn: `1413`, Churn: `113`)\n",
    "- No internet service: `1906` customers (No Churn: `1906`, Churn: `523`)\n",
    "\n",
    "### Device Protection\n",
    "- No: `1884` customers (No Churn: `1884`, Churn: `1211`)\n",
    "- Yes: `1413` customers (No Churn: `1413`, Churn: `113`)\n",
    "- No internet service: `1877` customers (No Churn: `1877`, Churn: `545`)\n",
    "\n",
    "### Tech Support\n",
    "- No: `2027` customers (No Churn: `2027`, Churn: `1446`)\n",
    "- Yes: `1413` customers (No Churn: `1413`, Churn: `113`)\n",
    "- No internet service: `1734` customers (No Churn: `1734`, Churn: `310`)\n",
    "\n",
    "### Streaming TV\n",
    "- No: `1868` customers (No Churn: `1868`, Churn: `942`)\n",
    "- Yes: `1413` customers (No Churn: `1413`, Churn: `113`)\n",
    "- No internet service: `1893` customers (No Churn: `1893`, Churn: `814`)\n",
    "\n",
    "### Streaming Movies\n",
    "- No: `1847` customers (No Churn: `1847`, Churn: `938`)\n",
    "- Yes: `1413` customers (No Churn: `1413`, Churn: `113`)\n",
    "- No internet service: `1914` customers (No Churn: `1914`, Churn: `818`)\n",
    "\n",
    "### Contract\n",
    "- Month-to-month: `2220` customers (No Churn: `2220`, Churn: `1655`)\n",
    "- Two year: `1307` customers (No Churn: `1307`, Churn: `166`)\n",
    "- One year: `1647` customers (No Churn: `1647`, Churn: `48`)\n",
    "\n",
    "### Paperless Billing\n",
    "- Yes: `2403` customers (No Churn: `2403`, Churn: `469`)\n",
    "- No: `2771` customers (No Churn: `2771`, Churn: `1400`)\n",
    "\n",
    "### Payment Method\n",
    "- Mailed check: `1286` customers (No Churn: `1286`, Churn: `258`)\n",
    "- Electronic check: `1290` customers (No Churn: `1290`, Churn: `232`)\n",
    "- Bank transfer (automatic): `1294` customers (No Churn: `1294`, Churn: `1071`)\n",
    "- Credit card (automatic): `1304` customers (No Churn: `1304`, Churn: `308`)\n",
    "\n",
    "These insights can help identify patterns influencing customer churn, enabling data-driven decisions for customer retention strategies.\n"
   ]
  },
  {
   "cell_type": "markdown",
   "id": "61919b08",
   "metadata": {
    "id": "YoGx56O7yRZS"
   },
   "source": [
    "<font color=#0b5bdb>**4. Analysis of churn rate**</font>"
   ]
  },
  {
   "cell_type": "code",
   "execution_count": null,
   "id": "97c19133",
   "metadata": {
    "colab": {
     "base_uri": "https://localhost:8080/",
     "height": 367
    },
    "id": "qy7e0XhxyO53",
    "outputId": "43b453de-9bd1-4403-f033-c4a3fe4f2c24"
   },
   "outputs": [],
   "source": [
    "# Getting a sense of the percentage of churn labels\n",
    "churn_label_count = df[\"Churn Label\"].value_counts()\n",
    "fig = plt.figure(figsize=(7, 4), dpi=100)\n",
    "plt.pie(\n",
    "    churn_label_count,\n",
    "    autopct=\"%.2f%%\",\n",
    "    labels=churn_label_count.index,\n",
    "    colors=[\"lightblue\", \"red\"],\n",
    "    explode=[0, 0.1],\n",
    ")\n",
    "plt.title(\"Pie chart of churn labels\")\n",
    "plt.show()"
   ]
  },
  {
   "cell_type": "markdown",
   "id": "5fbc3322",
   "metadata": {
    "id": "Y9ElOy_7yl-l"
   },
   "source": [
    "From the above plot, we can see that churn rate is `26.54%`"
   ]
  },
  {
   "cell_type": "markdown",
   "id": "a3442ee6",
   "metadata": {
    "id": "XRZypuN9y_rG"
   },
   "source": [
    "# Analysis of the reasons customers churn"
   ]
  },
  {
   "cell_type": "markdown",
   "id": "5f6d9e1b",
   "metadata": {
    "id": "e3hkeDK81VvE"
   },
   "source": [
    "<font color=#0b5bdb>**1. Displaying the results in dataframe**</font>"
   ]
  },
  {
   "cell_type": "code",
   "execution_count": null,
   "id": "43b95886",
   "metadata": {
    "colab": {
     "base_uri": "https://localhost:8080/",
     "height": 677
    },
    "id": "pZcCHcOSzO0T",
    "outputId": "67594ac4-b043-49f0-89dd-eec27b4e3d2f"
   },
   "outputs": [],
   "source": [
    "reasons = df[\"Churn Reason\"][df[\"Churn Reason\"].notna()]\n",
    "reasons = reasons.value_counts().to_frame()\n",
    "reasons.index.name = \"Churn Reason\"\n",
    "reasons.columns = [\"counts\"]\n",
    "reasons = reasons.assign(percent=lambda x: x / reasons[\"counts\"].sum())\n",
    "\n",
    "formater = lambda x: f\"{x:.2%}\"\n",
    "reasons[\"percent\"] = reasons.percent.apply(formater)\n",
    "reasons.reset_index(inplace=True)\n",
    "reasons"
   ]
  },
  {
   "cell_type": "markdown",
   "id": "e313e183",
   "metadata": {
    "id": "UHuTjnRJ1g8c"
   },
   "source": [
    "<font color=#0b5bdb>**2. Displaying the results in a plot - Treemap**</font>"
   ]
  },
  {
   "cell_type": "code",
   "execution_count": null,
   "id": "095e4309",
   "metadata": {
    "colab": {
     "base_uri": "https://localhost:8080/",
     "height": 517
    },
    "id": "I-E5gibTzhWP",
    "outputId": "f4dee761-df64-47bd-e05f-59a7de86466b"
   },
   "outputs": [],
   "source": [
    "fig = px.treemap(\n",
    "    data_frame=reasons,\n",
    "    path=[\"Churn Reason\"],\n",
    "    values=\"counts\",\n",
    "    custom_data=[\"percent\"],\n",
    "    width=800,\n",
    "    height=500,\n",
    "    title=\"Churn Reasons Treemap\",\n",
    ")\n",
    "\n",
    "fig.update_traces(\n",
    "    hovertemplate=\"%{label}<br>Count: %{value}<br>Percentage: %{customdata[0]}\",\n",
    "    textinfo=\"label+value+percent entry\"\n",
    ")\n",
    "fig.update_layout(margin=dict(t=30, l=10, r=10, b=10), title_x=0.5, title_y=0.96)\n",
    "fig.show()"
   ]
  },
  {
   "cell_type": "markdown",
   "id": "917e90a9",
   "metadata": {
    "id": "Hx1eHPynzspK"
   },
   "source": [
    "**Interpretation of Results**\n",
    "\n",
    "---\n",
    "The analysis of churn reasons provides valuable insights into the factors contributing to customer churn. Several key findings emerge from the data. Firstly, approximately `10.27%` of customers mentioned the `\"Attitude of Support Person\"` as their reason for churning, underscoring the significance of excellent customer service. Another `10.11%` cited `\"Competitor Offered Higher Download Speeds,\"` emphasizing the importance of offering competitive internet speeds. Additionally, `\"Competitor Offered More Data\"` was a reason for `8.67%` of customers, indicating that data offerings play a critical role in customer retention.\n",
    "\n",
    "A noteworthy observation is that `8.24%` of customers simply mentioned `\"Don't Know\"` as their churn reason. This suggests a need for more comprehensive customer feedback and communication to address concerns. Furthermore, the data revealed that `7.49%` of customers left because a competitor made a better offer, highlighting the importance of staying competitive in the market. Customer satisfaction also hinges on the `\"Attitude of Service Provider\"` (`7.22%`) and having access to `\"Competitor Had Better Devices\"` (`6.96%`). These insights underline the multi-faceted nature of customer churn, emphasizing the need for comprehensive strategies to enhance customer experience, product offerings, and competitive pricing.\n"
   ]
  },
  {
   "cell_type": "markdown",
   "id": "ce92d9f7",
   "metadata": {
    "id": "BZV7kYAX0Lwr"
   },
   "source": [
    "# Correlation Analysis"
   ]
  },
  {
   "cell_type": "markdown",
   "id": "9252e393",
   "metadata": {
    "id": "MC6LoqO20an1"
   },
   "source": [
    "<p style=\"font-size: 16px;\">Pearson correlation coefficient to determine the columns that are correlated with each so that we deal with them using PCA (Principal Component Analysis)</p>\n",
    "\n",
    "<p style=\"font-size: 20px;\"> $r = \\frac{\\sum(x_i - \\bar{x})(y_i - \\bar{y})}{\\sqrt{\\sum({x_i - \\bar{x}})^2 \\sum({y_i - \\bar{y}})^2}}$<p/>"
   ]
  },
  {
   "cell_type": "code",
   "execution_count": null,
   "id": "6657eb91",
   "metadata": {
    "colab": {
     "base_uri": "https://localhost:8080/",
     "height": 405
    },
    "id": "KmYfHtZE0LKZ",
    "outputId": "941ed0ba-a0c3-4d52-8f42-f2603bcaf5f0"
   },
   "outputs": [],
   "source": [
    "corr = df.corr(numeric_only=True)\n",
    "\n",
    "mask = np.triu(np.ones_like(corr, dtype=bool))\n",
    "\n",
    "plt.figure(figsize=(6, 3))\n",
    "sns.heatmap(corr, mask=mask, annot=True, fmt=\".2f\", linecolor=\"c\")\n",
    "plt.title(\"Pearson's Correlation Matrix\")\n",
    "plt.show()"
   ]
  },
  {
   "cell_type": "markdown",
   "id": "382c396b",
   "metadata": {
    "id": "h2smm6kQ0nFp"
   },
   "source": [
    "**Interpretation of correlation coefficient**\n",
    "\n",
    "---\n",
    ">Correlation coefficients provide insights into the relationships between various attributes in the dataset. Here, I'll focus on a few noteworthy correlations:\n",
    "\n",
    "\n",
    "1. `Tenure Months and Total Charges (0.825)`: There is a strong positive correlation between tenure (number of months a customer has stayed with the company) and total charges. This suggests that customers who have been with the company for a longer time tend to accumulate higher total charges. It's an intuitive relationship as long-term customers are likely to pay more over time.\n",
    "\n",
    "2. `Tenure Months and Monthly Charges (0.248)`: Tenure months and monthly charges have a positive correlation, but it's relatively weaker. This indicates that, in general, longer-tenured customers tend to have slightly higher monthly charges. It's a subtle trend, suggesting that some long-term customers might choose higher-priced services.\n",
    "\n",
    "3. `Total Charges and CLTV (0.341)`: There's a positive correlation between total charges and Customer Lifetime Value (CLTV), indicating that customers who generate higher total charges are more valuable to the company in the long run. This correlation underscores the importance of retaining high-spending customers for business profitability.\n",
    "\n",
    "These correlations provide a foundation for further analysis, such as identifying key factors influencing customer churn and understanding the drivers behind customer value and loyalty. Understanding these relationships can be valuable for decision-making and customer retention strategies.\n"
   ]
  },
  {
   "cell_type": "markdown",
   "id": "85591736",
   "metadata": {
    "id": "JTIVp0X51va0"
   },
   "source": [
    "# Feature Engineering"
   ]
  },
  {
   "cell_type": "markdown",
   "id": "4f6738dc",
   "metadata": {
    "id": "6b546352-0e6b-4ef0-b504-70ac09e2cbb3"
   },
   "source": [
    "<font color=#0b5bdb>**1. Dropping irrelevant columns from our analysis.**</font>"
   ]
  },
  {
   "cell_type": "code",
   "execution_count": null,
   "id": "4acef377",
   "metadata": {
    "id": "b3a6cda6-8694-46de-aa74-a614e97c0c2d"
   },
   "outputs": [],
   "source": [
    "df.drop(\n",
    "    columns=[\"CustomerID\", \"Country\", \"State\", \"Lat Long\", \"Zip Code\", \"Count\"],\n",
    "    inplace=True,\n",
    "    errors=\"ignore\",\n",
    ")"
   ]
  },
  {
   "cell_type": "markdown",
   "id": "5b05ea6f",
   "metadata": {
    "id": "19ac6599-6725-41fe-b97d-bc8cdb129344"
   },
   "source": [
    "<font color=#0b5bdb>**2. Dealing with missing values**</font>"
   ]
  },
  {
   "cell_type": "code",
   "execution_count": null,
   "id": "a6476a84",
   "metadata": {
    "colab": {
     "base_uri": "https://localhost:8080/",
     "height": 0
    },
    "id": "06ec3b4d-09d2-44d4-897f-0f5ea0097243",
    "outputId": "21b460fa-bd63-484c-b851-89301a211d82"
   },
   "outputs": [],
   "source": [
    "df.isna().sum()"
   ]
  },
  {
   "cell_type": "markdown",
   "id": "b191d99e",
   "metadata": {
    "id": "97060438-e486-4cac-ae0f-b19c6eed80c8"
   },
   "source": [
    "**As shown above there are `11` null values in `Total Charges` column and `5174` null values in the `Chrun Reason` column.**\n",
    "\n",
    "The `Churn Reason` column has many missing values because most customers haven't left the company, leaving the reason field empty.\n",
    "\n",
    "There are three methods we can approach:\n",
    "- 1. Removing\n",
    "- 2. Imputing\n",
    "- 3. Masking\n",
    "\n",
    "**Below I imputed the `Total Charges` column with mean**"
   ]
  },
  {
   "cell_type": "code",
   "execution_count": null,
   "id": "2089bbdf",
   "metadata": {
    "id": "4bc0207a-3d63-4739-a685-34ac6d07fcf8"
   },
   "outputs": [],
   "source": [
    "df[\"Total Charges\"].fillna(df[\"Total Charges\"].mean(), inplace=True) # Filling missing total charge with mean"
   ]
  },
  {
   "cell_type": "markdown",
   "id": "55ae8b5d",
   "metadata": {
    "id": "ad554336-88a9-44e6-b82b-e0478ba11c94"
   },
   "source": [
    "<font color=#0b5bdb>**3. Outliers Analysis**</font>"
   ]
  },
  {
   "cell_type": "code",
   "execution_count": null,
   "id": "c363120e",
   "metadata": {
    "colab": {
     "base_uri": "https://localhost:8080/",
     "height": 1000
    },
    "id": "940a9e1e-5763-47ec-b9fd-9c9fef9a290b",
    "outputId": "a2b489d2-7ebc-43b9-c64b-84da6fc8b779"
   },
   "outputs": [],
   "source": [
    "# Before applying log\n",
    "number_columns = df.select_dtypes(\"number\").drop(\n",
    "    columns=\"Latitude,Longitude,Churn Value,Churn Score\".split(\",\")\n",
    ")\n",
    "\n",
    "skewness_before_log = df[number_columns.columns].skew()\n",
    "fig, axes = plt.subplots(\n",
    "    nrows=4,\n",
    "    ncols=3,\n",
    "    figsize=(12, 14),\n",
    "    gridspec_kw={\"hspace\": 0.35, \"wspace\": 0.25, \"width_ratios\": [0.6, 0.3, 0.3]},\n",
    ")\n",
    "axes = axes.flatten()\n",
    "i = 0\n",
    "for column in number_columns.columns:\n",
    "    ax = axes[i]\n",
    "    sns.regplot(\n",
    "        data=df,\n",
    "        x=column,\n",
    "        y=\"Churn Score\",\n",
    "        ax=ax,\n",
    "        scatter_kws={\"alpha\": 0.6},\n",
    "        marker=\"*\",\n",
    "        line_kws={\"color\": \"orange\"},\n",
    "    )\n",
    "    ax.set_title(f\"{column} vs Churn Score\", size=9)\n",
    "    ax = axes[i + 1]\n",
    "    sns.kdeplot(\n",
    "        data=df, x=column, hue=\"Churn Label\", ax=ax, fill=False, alpha=0.9, legend=True\n",
    "    )\n",
    "    skewness = skewness_before_log[column]\n",
    "    ax.text(\n",
    "        ax.get_xlim()[0],\n",
    "        ax.get_ylim()[-1],\n",
    "        f\"skew: {skewness:.2f}\",\n",
    "        size=9,\n",
    "        weight=\"bold\",\n",
    "    )\n",
    "    legend = ax.get_legend()\n",
    "    plt.setp(legend.get_title(), fontsize=8)\n",
    "    for text in legend.get_texts():\n",
    "        text.set_fontsize(8)\n",
    "\n",
    "    ax = axes[i + 2]\n",
    "    sns.boxplot(\n",
    "        data=df,\n",
    "        x=\"Churn Label\",\n",
    "        y=column,\n",
    "        ax=ax,\n",
    "        width=0.6,\n",
    "        saturation=0.9,\n",
    "        linewidth=0.9,\n",
    "    )\n",
    "    i += 3"
   ]
  },
  {
   "cell_type": "markdown",
   "id": "29b1c4b8",
   "metadata": {
    "id": "yerKQ0AuOSgH"
   },
   "source": [
    "\n",
    "From the boxplots, we can see that there are some outliers in the `Total Charges` and `Tenure Months` columns. Also, an acceptable level of skewness is between `-0.5 and +0.5`, however, the histogram suggests that the `Total Charges` is highly skewed since it has a skewness of `0.96`.\n",
    "\n",
    "**Solution**: We will simply apply log to the `Total Charges` column mitigate the effect of both the outliers and the deviation from normal distribution."
   ]
  },
  {
   "cell_type": "code",
   "execution_count": null,
   "id": "576cef87",
   "metadata": {
    "colab": {
     "base_uri": "https://localhost:8080/",
     "height": 426
    },
    "id": "ANNMaKfwX9LU",
    "outputId": "76a7f551-5e84-4ecd-a079-2cf61e935383"
   },
   "outputs": [],
   "source": [
    "# After applying log\n",
    "fig, axes = plt.subplots(\n",
    "    nrows=1,\n",
    "    ncols=2,\n",
    "    figsize=(8, 4),\n",
    "    gridspec_kw={\"hspace\": 0.35, \"wspace\": 0.25, \"width_ratios\": [0.3, 0.3]},\n",
    ")\n",
    "\n",
    "axes = axes.flatten()\n",
    "\n",
    "df_copy = df.copy()\n",
    "df_copy[\"total_charge_log\"] = df_copy[\"Total Charges\"].apply(np.log)\n",
    "skewness = df_copy[\"total_charge_log\"].skew()\n",
    "\n",
    "ax = axes[0]\n",
    "sns.kdeplot(\n",
    "    data=df_copy, x=\"total_charge_log\", hue=\"Churn Label\", ax=ax, fill=False, alpha=0.9\n",
    ")\n",
    "ax.text(\n",
    "    ax.get_xlim()[0], ax.get_ylim()[-1], f\"skew: {skewness:.2f}\", size=9, weight=\"bold\"\n",
    ")\n",
    "legend = ax.get_legend()\n",
    "plt.setp(legend.get_title(), fontsize=8)\n",
    "for text in legend.get_texts():\n",
    "    text.set_fontsize(8)\n",
    "\n",
    "ax = axes[1]\n",
    "sns.boxplot(\n",
    "    data=df_copy,\n",
    "    x=\"Churn Label\",\n",
    "    y=\"total_charge_log\",\n",
    "    ax=ax,\n",
    "    width=0.6,\n",
    "    saturation=0.9,\n",
    "    linewidth=0.9,\n",
    ")\n",
    "plt.suptitle(\"Kdeplot and Boxplot of the total charges\")\n",
    "plt.show()"
   ]
  },
  {
   "cell_type": "markdown",
   "id": "010f8e84",
   "metadata": {
    "id": "u7sn--gNZ4gE"
   },
   "source": [
    "From the above plot, we can see that skewness of the `Total Charges` column has reduced to `0.76`"
   ]
  },
  {
   "cell_type": "markdown",
   "id": "d6c7d129",
   "metadata": {
    "id": "bJe5zWip5tDg"
   },
   "source": [
    "<font color=#0b5bdb>**4. Encoding Categorical Columns**</font>"
   ]
  },
  {
   "cell_type": "code",
   "execution_count": null,
   "id": "3de1eee0",
   "metadata": {
    "colab": {
     "base_uri": "https://localhost:8080/",
     "height": 362
    },
    "id": "hJ-VNK9S5sd7",
    "outputId": "a49d291e-019b-4e64-abf0-3401c37323ba"
   },
   "outputs": [],
   "source": [
    "# OneHotEncoding with pandas' get dummies\n",
    "\n",
    "df_copy = pd.get_dummies(df, columns=df.select_dtypes(\"O\").columns)\n",
    "print(\"Shape before encoding: \", df.shape)\n",
    "print(\"Shape after encoding: \", df_copy.shape)\n",
    "\n",
    "df_copy.head()"
   ]
  },
  {
   "cell_type": "markdown",
   "id": "e4440e3d",
   "metadata": {
    "id": "gFIGjfjr64Gm"
   },
   "source": [
    "Applying one hot encoding has added `1175` to our columns leading to a high dimensionality in our data."
   ]
  },
  {
   "cell_type": "markdown",
   "id": "21580137",
   "metadata": {
    "id": "ZtTiw0C80yp0"
   },
   "source": [
    "# Hypothesis Testing"
   ]
  },
  {
   "cell_type": "markdown",
   "id": "bceee54c",
   "metadata": {
    "id": "Lkwnbji3hZbN"
   },
   "source": [
    "**Hypothesis Testing**\n",
    "\n",
    "---\n",
    "**Hypothesis 1: Phone Service Impact Churn**\n",
    "- Null Hypothesis (H0): There is no significant relationship between `Phone Service` and `Churn`.\n",
    "- Alternative Hypothesis (H1): There is a significant relationship between `Phone Service` and `Churn`.\n",
    "\n",
    "**Hypothesis 2: Contract Type Affects Churn**\n",
    "- Null Hypothesis (H0): The `type of contract` does not affect the likelihood of churn.\n",
    "- Alternative Hypothesis (H1): The `type of contract` significantly influences the likelihood of churn.\n",
    "\n",
    "**Hypothesis 3: Seniority Affects Churn**\n",
    "- Null Hypothesis (H0): The `Senior Citizen` does not affect the likelihood of churn.\n",
    "- Alternative Hypothesis (H1): The `Senior Citizen` significantly influences the likelihood of churn."
   ]
  },
  {
   "cell_type": "markdown",
   "id": "b39188c7",
   "metadata": {
    "id": "b99c3979"
   },
   "source": [
    "<p>Chi Square Test to test if a categorical column has a relation with churn label\n",
    "    \n",
    "$\\chi^{2} = \\sum_{i=1}^{n} \\frac{(O_i-E_i)^2}{E_i}$"
   ]
  },
  {
   "cell_type": "code",
   "execution_count": null,
   "id": "fd06a881",
   "metadata": {
    "id": "b5dbebdc"
   },
   "outputs": [],
   "source": [
    "def chi_square_test(dataframe: DataFrame):\n",
    "\n",
    "    columns = [\"Phone Service\", \"Contract\", \"Senior Citizen\"]\n",
    "    p_value = []\n",
    "    dofs = []\n",
    "    chi_square = []\n",
    "    for column in columns:\n",
    "        crosstab = pd.crosstab(\n",
    "            index=dataframe[column], columns=dataframe[\"Churn Label\"]\n",
    "        )\n",
    "        chi_value, p, dof, ev = chi2_contingency(crosstab)\n",
    "        chi_square.append(chi_value)\n",
    "        dofs.append(dof)\n",
    "        p_value.append(p)\n",
    "\n",
    "    return pd.DataFrame(\n",
    "        {\n",
    "            \"column\": columns,\n",
    "            \"test_statistic\": np.round(chi_square),\n",
    "            \"degree_of_freedom\": dof,\n",
    "            \"p_value\": np.round(p_value, 2),\n",
    "        }\n",
    "    )"
   ]
  },
  {
   "cell_type": "code",
   "execution_count": null,
   "id": "f9d43af5",
   "metadata": {
    "colab": {
     "base_uri": "https://localhost:8080/",
     "height": 143
    },
    "id": "48c391ee",
    "outputId": "f1d07c3c-30ef-471f-ffef-25b24dd7e38d",
    "scrolled": true
   },
   "outputs": [],
   "source": [
    "chi_table = chi_square_test(df)\n",
    "chi_table[\"Decision\"] = np.where(\n",
    "    chi_table.p_value < 0.05, \"significant\", \"not significant\"\n",
    ")\n",
    "chi_table"
   ]
  },
  {
   "cell_type": "markdown",
   "id": "0eb481ab",
   "metadata": {
    "id": "SRIePnPqlCbY"
   },
   "source": [
    "**Interpration of hypothesis results**\n",
    "\n",
    "---\n",
    "**Hypothesis 1 (Phone Service Impact Churn):**\n",
    "- **Conclusion:** The p-value for the hypothesis testing related to `Phone Service` is `0.34`, which is greater than the chosen significance level (alpha). Therefore, we `fail to reject` the null hypothesis (H0). This suggests that there is `no significant evidence` to support the idea that `Phone Service` has a significant impact on churn in this dataset.\n",
    "\n",
    "**Hypothesis 2 (Contract Type Affects Churn):**\n",
    "- **Conclusion:** The p-value for the hypothesis testing related to `Contract` is `0.00`, which is less than the chosen significance level (alpha). Therefore, we `reject` the null hypothesis (H0). This indicates that there is `significant evidence` to support the idea that the `type of contract` significantly influences the likelihood of churn in this dataset.\n",
    "\n",
    "**Hypothesis 3 (Seniority Affects Churn):**\n",
    "- **Conclusion:** The p-value for the hypothesis testing related to `Senior Citizen` is `0.00`, which is less than the chosen significance level (alpha). This suggests that there is `significant evidence` to support the idea that being a `Senior Citizen` significantly influences the likelihood of churn in this dataset."
   ]
  },
  {
   "cell_type": "markdown",
   "id": "34411635",
   "metadata": {
    "id": "eIzdsbt48RDB"
   },
   "source": [
    "# Suggestions for the next steps in analyzing the data\n",
    "\n",
    "---\n",
    "\n",
    "- **Customer Segmentation**: We can explore customer segmentation to better understand different customer groups.\n",
    "\n",
    "- **Principal Component Analysis**: We can apply PCA to reduce the dimensionality of the data and focus on more important features.\n",
    "\n",
    "- **Machine Learning Modeling**: applying machine learning techniques to build predictive models for customer churn. We can use classification algorithms like logistic regression, decision trees, random forests, or gradient boosting to predict which customers are likely to churn."
   ]
  },
  {
   "cell_type": "markdown",
   "id": "51564246",
   "metadata": {
    "id": "i2pU8uKT95UO"
   },
   "source": [
    "# Summary of quality of data\n",
    "\n",
    "---\n",
    "The quality of the provided data appears to be relatively high, with a comprehensive set of variables and attributes for analyzing customer churn. The dataset includes essential information, such as customer demographics, service details, billing information, and churn labels, making it suitable for various analytical tasks. However, a thorough data cleaning process, including handling missing values, outliers, and potential inconsistencies, may be necessary before advanced analytics and modeling. Additionally, the quality of analysis and decision-making based on this data will depend on the accuracy and representativeness of the information, as well as the relevance of the features chosen for specific analytical tasks."
   ]
  }
 ],
 "metadata": {
  "colab": {
   "provenance": []
  },
  "kernelspec": {
   "display_name": "Python 3 (ipykernel)",
   "language": "python",
   "name": "python3"
  },
  "language_info": {
   "codemirror_mode": {
    "name": "ipython",
    "version": 3
   },
   "file_extension": ".py",
   "mimetype": "text/x-python",
   "name": "python",
   "nbconvert_exporter": "python",
   "pygments_lexer": "ipython3",
   "version": "3.11.7"
  },
  "toc": {
   "base_numbering": 1,
   "nav_menu": {},
   "number_sections": true,
   "sideBar": true,
   "skip_h1_title": false,
   "title_cell": "Table of Contents",
   "title_sidebar": "Contents",
   "toc_cell": false,
   "toc_position": {},
   "toc_section_display": true,
   "toc_window_display": false
  },
  "varInspector": {
   "cols": {
    "lenName": 16,
    "lenType": 16,
    "lenVar": 40
   },
   "kernels_config": {
    "python": {
     "delete_cmd_postfix": "",
     "delete_cmd_prefix": "del ",
     "library": "var_list.py",
     "varRefreshCmd": "print(var_dic_list())"
    },
    "r": {
     "delete_cmd_postfix": ") ",
     "delete_cmd_prefix": "rm(",
     "library": "var_list.r",
     "varRefreshCmd": "cat(var_dic_list()) "
    }
   },
   "types_to_exclude": [
    "module",
    "function",
    "builtin_function_or_method",
    "instance",
    "_Feature"
   ],
   "window_display": false
  }
 },
 "nbformat": 4,
 "nbformat_minor": 5
}
